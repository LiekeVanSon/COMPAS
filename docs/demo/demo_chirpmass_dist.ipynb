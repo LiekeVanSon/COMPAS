{
 "cells": [
  {
   "cell_type": "markdown",
   "metadata": {},
   "source": [
    "# Demo: Chirp mass distribution of binary black holes (BBHs)\n",
    "\n",
    "This notebook reproduces Figure X of the COMPAS Paper (_arXiv_: ; Mandel et al., in prep.). Before running the notebook, you need to download the COMPAS data (COMPAS_CHE_30xZ_3000000.h5) that was used to produce the Figure from the link https://drive.google.com/file/d/1gqEpV8B_JSQ30K1_aNb4B23csdgQEpfc/view?usp=sharing (MIKE:put on Zenodo?). Place the file in `$COMPAS_ROOT_DIR/docs/demo`.\n",
    "\n",
    "This file contains the output of 3,000,000 binaries evolved using COMPAS v02.11.01a (v02.11.01 plus fix for issue #260) with the Fidicuial Model (Section X, Mandel et al., in prep.) over 30 different metallicities, uniform in $\\log(Z) \\in [10^{-4},10^{-1.825}]$. More details can be found in `Run_Details.txt`.\n",
    "\n",
    "We include some comments to clarify different parts of the code below. But for a full exposition to COMPAS's post-processing tools, please work through the Jupyter Notebook tutorials in the `postProcessing` directory (MIKE: include link)."
   ]
  },
  {
   "cell_type": "markdown",
   "metadata": {},
   "source": [
    "## Paths and libraries\n",
    "You may have to make several changes here for the code to run:\n",
    "* `pathData` needs to be set to the directory containing the COMPAS_CHE_30xZ_3000000.h5 file you have downloaded. Currently, we set this path to be the demo directory.\n",
    "* If you would like to use this script for your own COMPAS Output, you will need to change `fileName` as well."
   ]
  },
  {
   "cell_type": "code",
   "execution_count": 2,
   "metadata": {},
   "outputs": [
    {
     "name": "stdout",
     "output_type": "stream",
     "text": [
      "$HOME/git/COMPAS//postProcessing/Folders/CosmicIntegration/PythonScripts/\n"
     ]
    },
    {
     "ename": "ModuleNotFoundError",
     "evalue": "No module named 'ClassCosmicIntegrator'",
     "output_type": "error",
     "traceback": [
      "\u001b[0;31m---------------------------------------------------------------------------\u001b[0m",
      "\u001b[0;31mModuleNotFoundError\u001b[0m                       Traceback (most recent call last)",
      "\u001b[0;32m<ipython-input-2-0b7ec05d9cfd>\u001b[0m in \u001b[0;36m<module>\u001b[0;34m()\u001b[0m\n\u001b[1;32m     11\u001b[0m \u001b[0;34m\u001b[0m\u001b[0m\n\u001b[1;32m     12\u001b[0m \u001b[0msys\u001b[0m\u001b[0;34m.\u001b[0m\u001b[0mpath\u001b[0m\u001b[0;34m.\u001b[0m\u001b[0mappend\u001b[0m\u001b[0;34m(\u001b[0m\u001b[0mpathScripts\u001b[0m\u001b[0;34m)\u001b[0m\u001b[0;34m\u001b[0m\u001b[0m\n\u001b[0;32m---> 13\u001b[0;31m \u001b[0;32mimport\u001b[0m \u001b[0mClassCosmicIntegrator\u001b[0m\u001b[0;34m\u001b[0m\u001b[0m\n\u001b[0m\u001b[1;32m     14\u001b[0m \u001b[0;34m\u001b[0m\u001b[0m\n\u001b[1;32m     15\u001b[0m \u001b[0;31m# Importing ClassCosmicIntegrator imports other classes, including ClassCOMPAS,\u001b[0m\u001b[0;34m\u001b[0m\u001b[0;34m\u001b[0m\u001b[0m\n",
      "\u001b[0;31mModuleNotFoundError\u001b[0m: No module named 'ClassCosmicIntegrator'"
     ]
    }
   ],
   "source": [
    "import os\n",
    "import sys\n",
    "import numpy as np\n",
    "import matplotlib.pyplot as plt\n",
    "\n",
    "COMPASdir = os.environ['COMPAS_ROOT_DIR']\n",
    "pathScripts = COMPASdir + \"/postProcessing/Folders/CosmicIntegration/PythonScripts/\"\n",
    "pathData = COMPASdir + \"/docs/demo/\"\n",
    "fileName = \"COMPAS_CHE_30xZ_3000000.h5\"\n",
    "\n",
    "sys.path.append(pathScripts)\n",
    "import ClassCosmicIntegrator\n",
    "\n",
    "# Importing ClassCosmicIntegrator imports other classes, including ClassCOMPAS,\n",
    "# ClassMSSFR, selection_effects, totalMassEvolvedPerZ. "
   ]
  },
  {
   "cell_type": "markdown",
   "metadata": {},
   "source": [
    "## Create instance of ClassCosmicIntegrator"
   ]
  },
  {
   "cell_type": "code",
   "execution_count": 3,
   "metadata": {},
   "outputs": [
    {
     "ename": "TypeError",
     "evalue": "__init__() got an unexpected keyword argument 'fileName'",
     "output_type": "error",
     "traceback": [
      "\u001b[0;31m---------------------------------------------------------------------------\u001b[0m",
      "\u001b[0;31mTypeError\u001b[0m                                 Traceback (most recent call last)",
      "\u001b[0;32m<ipython-input-3-f5ad8bb33a08>\u001b[0m in \u001b[0;36m<module>\u001b[0;34m()\u001b[0m\n\u001b[0;32m----> 1\u001b[0;31m \u001b[0mCI\u001b[0m \u001b[0;34m=\u001b[0m \u001b[0mClassCosmicIntegrator\u001b[0m\u001b[0;34m.\u001b[0m\u001b[0mCosmicIntegrator\u001b[0m\u001b[0;34m(\u001b[0m\u001b[0mpathCOMPAS\u001b[0m\u001b[0;34m=\u001b[0m\u001b[0mpathData\u001b[0m\u001b[0;34m,\u001b[0m \u001b[0mfileName\u001b[0m\u001b[0;34m=\u001b[0m\u001b[0mfileName\u001b[0m\u001b[0;34m)\u001b[0m\u001b[0;34m\u001b[0m\u001b[0m\n\u001b[0m",
      "\u001b[0;31mTypeError\u001b[0m: __init__() got an unexpected keyword argument 'fileName'"
     ]
    }
   ],
   "source": [
    "CI = ClassCosmicIntegrator.CosmicIntegrator(pathCOMPAS=pathData, fileName=fileName)"
   ]
  },
  {
   "cell_type": "markdown",
   "metadata": {},
   "source": [
    "## Set the COMPAS class in our cosmicIntegrator"
   ]
  },
  {
   "cell_type": "code",
   "execution_count": 4,
   "metadata": {},
   "outputs": [
    {
     "ename": "NameError",
     "evalue": "name 'CI' is not defined",
     "output_type": "error",
     "traceback": [
      "\u001b[0;31m---------------------------------------------------------------------------\u001b[0m",
      "\u001b[0;31mNameError\u001b[0m                                 Traceback (most recent call last)",
      "\u001b[0;32m<ipython-input-4-7d3dfe1064aa>\u001b[0m in \u001b[0;36m<module>\u001b[0;34m()\u001b[0m\n\u001b[1;32m      1\u001b[0m \u001b[0;31m# Set lower and upper mass limits used for Kroupa IMF when drawing ZAMS stars in the COMPAS run\u001b[0m\u001b[0;34m\u001b[0m\u001b[0;34m\u001b[0m\u001b[0m\n\u001b[0;32m----> 2\u001b[0;31m \u001b[0mCI\u001b[0m\u001b[0;34m.\u001b[0m\u001b[0mCOMPAS\u001b[0m\u001b[0;34m.\u001b[0m\u001b[0mMlower\u001b[0m \u001b[0;34m=\u001b[0m \u001b[0;36m5.0\u001b[0m\u001b[0;34m\u001b[0m\u001b[0m\n\u001b[0m\u001b[1;32m      3\u001b[0m \u001b[0mCI\u001b[0m\u001b[0;34m.\u001b[0m\u001b[0mCOMPAS\u001b[0m\u001b[0;34m.\u001b[0m\u001b[0mMupper\u001b[0m \u001b[0;34m=\u001b[0m \u001b[0;36m150.0\u001b[0m\u001b[0;34m\u001b[0m\u001b[0m\n\u001b[1;32m      4\u001b[0m \u001b[0;34m\u001b[0m\u001b[0m\n\u001b[1;32m      5\u001b[0m \u001b[0mCI\u001b[0m\u001b[0;34m.\u001b[0m\u001b[0mCOMPAS\u001b[0m\u001b[0;34m.\u001b[0m\u001b[0mbinaryFraction\u001b[0m \u001b[0;34m=\u001b[0m \u001b[0;36m0.7\u001b[0m\u001b[0;34m\u001b[0m\u001b[0m\n",
      "\u001b[0;31mNameError\u001b[0m: name 'CI' is not defined"
     ]
    }
   ],
   "source": [
    "# Set lower and upper mass limits used for Kroupa IMF when drawing ZAMS stars in the COMPAS run\n",
    "CI.COMPAS.Mlower = 5.0\n",
    "CI.COMPAS.Mupper = 150.0\n",
    "\n",
    "CI.COMPAS.binaryFraction = 0.7\n",
    "\n",
    "CI.COMPAS.setGridAndMassEvolved()\n",
    "CI.COMPAS.setCOMPASDCOmask()  # By default, this masks for BBHs formed under the pessimistic CE assumption\n",
    "CI.COMPAS.setCOMPASData()  # This carries out the mask"
   ]
  },
  {
   "cell_type": "markdown",
   "metadata": {},
   "source": [
    "## Specify the MSSFR model"
   ]
  },
  {
   "cell_type": "code",
   "execution_count": null,
   "metadata": {
    "collapsed": true
   },
   "outputs": [],
   "source": [
    "CI.MSSFR.SFRprescription = \"Neijssel et al. (2019)\"\n",
    "CI.MSSFR.Zprescription = \"logNormal\"\n",
    "CI.MSSFR.logNormalPrescription = \"Neijssel Phenomenological\"\n",
    "\n",
    "# Set the metallicity grid from the COMPAS output\n",
    "CI.MSSFR.metallicityGrid = CI.COMPAS.metallicityGrid\n",
    "CI.MSSFR.calculateMetallicityBinEdges()\n",
    "CI.calcBirthRedshift() "
   ]
  },
  {
   "cell_type": "markdown",
   "metadata": {},
   "source": [
    "## Perform the cosmic integration"
   ]
  },
  {
   "cell_type": "code",
   "execution_count": null,
   "metadata": {
    "collapsed": true
   },
   "outputs": [],
   "source": [
    "CI.cosmologicalIntegration()"
   ]
  },
  {
   "cell_type": "markdown",
   "metadata": {},
   "source": [
    "## Create chirp mass distribution"
   ]
  },
  {
   "cell_type": "code",
   "execution_count": null,
   "metadata": {
    "collapsed": true
   },
   "outputs": [],
   "source": [
    "chirpMass = CI.COMPAS.mChirp\n",
    "ratePerSys_observed = np.sum(CI.ratePerSys_observed, axis=0)\n",
    "mask = chirpMass < 100 # Set maximum plotted chirp mass to be 100 Msun\n",
    "\n",
    "# Set grid in chirp mass\n",
    "binsMchirp = np.linspace(0, 40, 20)\n",
    "dMchirp = np.diff(binsMchirp)\n",
    "center = (binsMchirp[1:] + binsMchirp[:-1]) / 2.0\n",
    "\n",
    "yvalues, _ = np.histogram(chirpMass[mask], bins=binsMchirp, weights=ratePerSys_observed[mask])\n",
    "dydMchirp = np.divide(yvalues, dMchirp)"
   ]
  },
  {
   "cell_type": "markdown",
   "metadata": {},
   "source": [
    "## Plot chirp mass distribution"
   ]
  },
  {
   "cell_type": "code",
   "execution_count": null,
   "metadata": {
    "collapsed": true
   },
   "outputs": [],
   "source": [
    "fig, axes = plt.subplots(1, 1)\n",
    "axes.plot(center, dydMchirp)\n",
    "plt.title(\"Chirp Mass Distribution of LIGO BBHs at O1 Sensitivity\")\n",
    "axes.set_xlabel(\"$\\mathcal{M}_c}$ / $\\mathrm{M}_\\odot$\")\n",
    "axes.set_ylabel(\"$\\\\frac{d^2N}{dtd\\mathcal{M}_c}$ / $\\mathrm{yr}^{-1}\\mathrm{M}_\\odot^{-1}$\")\n",
    "plt.show()"
   ]
  }
 ],
 "metadata": {
  "kernelspec": {
   "display_name": "Python 3",
   "language": "python",
   "name": "python3"
  },
  "language_info": {
   "codemirror_mode": {
    "name": "ipython",
    "version": 3
   },
   "file_extension": ".py",
   "mimetype": "text/x-python",
   "name": "python",
   "nbconvert_exporter": "python",
   "pygments_lexer": "ipython3",
   "version": "3.6.1"
  }
 },
 "nbformat": 4,
 "nbformat_minor": 2
}
