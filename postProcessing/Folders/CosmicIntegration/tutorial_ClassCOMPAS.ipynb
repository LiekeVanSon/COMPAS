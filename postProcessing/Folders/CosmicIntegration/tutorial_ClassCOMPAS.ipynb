{
 "cells": [
  {
   "cell_type": "markdown",
   "metadata": {},
   "source": [
    "# Using ClassCOMPAS\n",
    "\n",
    "This notebook serves as a tutorial for using ClassCOMPAS to post-process COMPAS output."
   ]
  },
  {
   "cell_type": "code",
   "execution_count": 3,
   "metadata": {},
   "outputs": [],
   "source": [
    "import os\n",
    "import sys\n",
    "pathNoteBook     = os.getcwd()\n",
    "pathClassCOMPAS  = pathNoteBook + '/PythonScripts/'\n",
    "sys.path.append(pathClassCOMPAS)\n",
    "\n",
    "import numpy as np\n",
    "import ClassCOMPAS"
   ]
  },
  {
   "cell_type": "markdown",
   "metadata": {},
   "source": [
    "## Create instance of ClassCOMPAS\n",
    "We first set class attributes. For details, see ClassCOMPAS.py"
   ]
  },
  {
   "cell_type": "code",
   "execution_count": 4,
   "metadata": {
    "tags": []
   },
   "outputs": [],
   "source": [
    "path = 'COMPAS_output/'                  # Path to directory containing COMPAS h5 file\n",
    "fileName = 'COMPAS_CHE_30xZ_3000000.h5'  # Name of COMPAS HDF5 file\n",
    "lazyData = True                          # True to store some additional quantities like mass ratios and chirp masses"
   ]
  },
  {
   "cell_type": "markdown",
   "metadata": {},
   "source": [
    "We then set attributes related to sampling the initial mass function (IMF). Mlower, Mupper, and binaryFraction are needed to calculate the total star-forming mass as opposed to just the amount of stellar mass evolved by COMPAS.\n",
    "\n",
    "Mlower and Mupper should correspond to the option specified in the pythonSubmit.py."
   ]
  },
  {
   "cell_type": "code",
   "execution_count": 5,
   "metadata": {},
   "outputs": [
    {
     "output_type": "stream",
     "name": "stdout",
     "text": [
      "ClassCOMPAS: Remember to self.setZgridAndCalcMassFormed()\n                   then  self.setCOMPASDCOmask()\n                   then  self.setCOMPASData()\n"
     ]
    }
   ],
   "source": [
    "Mlower = 5.             # Lower mass cutoff in COMPAS's sampling from the Kroupa IMF \n",
    "Mupper = 150.           # Upper mass cutoff in COMPAS's sampling from the Kroupa IMF \n",
    "binaryFraction = 0.7    # Assummed fraction of stellar systems in binaries\n",
    "\n",
    "# Now create instance of ClassCOMPAS\n",
    "COMPASData = ClassCOMPAS.COMPASData(\n",
    "    path=path,\n",
    "    fileName=fileName,\n",
    "    lazyData=lazyData,\n",
    "    Mlower=Mlower,\n",
    "    Mupper=Mupper,\n",
    "    binaryFraction=binaryFraction\n",
    "    )"
   ]
  },
  {
   "cell_type": "markdown",
   "metadata": {},
   "source": [
    "## Calculate total star-forming mass\n",
    "We then need to recover the total star-forming mass corresponding to our COMPAS simulation from (i) the total stellar mass drawn in the COMPAS run and (ii) the IMF used. This can be done simply by calling the setZgridAndCalcMassFormed method. This method creates the following class attributes:\n",
    "\n",
    "(i) metallicityGrid: Array of the metallicities evolved in your COMPAS run\n",
    "\n",
    "(ii) massFormedAtEachZ: Total star-forming mass at each metallicity"
   ]
  },
  {
   "cell_type": "code",
   "execution_count": 6,
   "metadata": {},
   "outputs": [],
   "source": [
    "COMPASData.setZgridAndCalcMassFormed()"
   ]
  },
  {
   "cell_type": "markdown",
   "metadata": {},
   "source": [
    "You can see the metallicities in your COMPAS run:"
   ]
  },
  {
   "cell_type": "code",
   "execution_count": 7,
   "metadata": {},
   "outputs": [
    {
     "output_type": "stream",
     "name": "stdout",
     "text": [
      "[0.0001     0.00011885 0.00014125 0.00016788 0.00019953 0.00023714\n 0.00028184 0.00033497 0.00039811 0.00047315 0.00056234 0.00066834\n 0.00079433 0.00094406 0.00112202 0.00133352 0.00158489 0.00188365\n 0.00223872 0.00266073 0.00316228 0.00375837 0.00446684 0.00530884\n 0.00630957 0.00749894 0.00891251 0.01059254 0.01258925 0.01496236]\n"
     ]
    }
   ],
   "source": [
    "print(COMPASData.metallicityGrid)"
   ]
  },
  {
   "cell_type": "markdown",
   "metadata": {},
   "source": [
    "You can also see the corresponding amount of mass formed at each metallicity:"
   ]
  },
  {
   "cell_type": "code",
   "execution_count": 10,
   "metadata": {
    "tags": []
   },
   "outputs": [
    {
     "output_type": "stream",
     "name": "stdout",
     "text": [
      "[10914062.62547771 10869826.17883275 10880310.68209276 10842245.11900893\n 10880968.85949892 10906846.74058563 10914669.55562297 10943169.69720117\n 10918236.02016245 10867826.10407558 10874059.66831391 10850164.39689123\n 10882938.83581023 10855643.89796973 10966923.40370443 10824912.72872888\n 10933947.66061918 10945262.74546761 10912602.09039398 10920072.52719218\n 10910833.7752537  10927451.69415953 10923768.73093803 10842602.55553873\n 10887305.27589716 10946318.10072558 10960071.46727974 10890855.54839228\n 10940849.86555227 10827570.71352417]\n"
     ]
    }
   ],
   "source": [
    "print(COMPASData.massFormedAtEachZ) # In Msol"
   ]
  },
  {
   "cell_type": "markdown",
   "metadata": {},
   "source": [
    "## Masking interesting systems\n",
    "We now need to apply filters to extract the double compact objects (DCOs) of interest. This is accomplished by using the setCOMPASDCOmask method. This method allows you to filter\n",
    "\n",
    "* DCOs of a particular type\n",
    "* DCOs that merge within a Hubble time\n",
    "* DCOs that are formed assumming the pessimistic option for common-envelopes (Hertzsprung-gap donors are not allowed to survive common-envelope events)\n",
    "\n",
    "The setCOMPASDCOmask method creates the attribute DCOmask, which is a boolean array containing 'True' for systems of interest and 'False' otherwise corresponding to the systems in DoubleCompactObjects.\n",
    "\n",
    "We set our filter below:"
   ]
  },
  {
   "cell_type": "code",
   "execution_count": 6,
   "metadata": {},
   "outputs": [],
   "source": [
    "desiredDCO = 'BBH'        # Can take value 'BBH', 'BNS', 'BHNS', or 'all'\n",
    "withinHubbleTime = True   # Mask for systems that merge within a Hubble time\n",
    "pessimistic = True        # Assume pessimistic common-envelope prescription\n",
    "noRLOFafterCEE = True     # Assume systems merge if there is immediate RLOF after a common-envelope episode\n",
    "\n",
    "COMPASData.setCOMPASDCOmask(\n",
    "    types=desiredDCO,\n",
    "    pessimistic=pessimistic,\n",
    "    withinHubbleTime=withinHubbleTime,\n",
    "    noRLOFafterCEE=noRLOFafterCEE\n",
    "    )"
   ]
  },
  {
   "cell_type": "markdown",
   "metadata": {},
   "source": [
    "You can then print the number of systems of interest:"
   ]
  },
  {
   "cell_type": "code",
   "execution_count": 8,
   "metadata": {},
   "outputs": [
    {
     "output_type": "execute_result",
     "data": {
      "text/plain": [
       "10646"
      ]
     },
     "metadata": {},
     "execution_count": 8
    }
   ],
   "source": [
    "np.sum(COMPASData.DCOmask) # Print number of systems of interest"
   ]
  },
  {
   "cell_type": "markdown",
   "metadata": {},
   "source": [
    "## Setting the COMPAS data\n",
    "Having created our mask for interesting systems, it only remains to run the setCOMPASData method carry out the masking of mask our data. This procedure creates the following masked attributes:\n",
    "\n",
    "* seedsDCO: Seed\n",
    "* metallicitySystems: Metallicity of each system\n",
    "* delayTimes: Delay time (Myr)\n",
    "* mass1\n",
    "* mass2\n",
    "\n",
    "The following attributes are only set if lazydata = True:\n",
    "* q: A symmetrised mass ratio defined as the ratio of the smaller to larger mass object \n",
    "* mChirp: Chirp mass\n",
    "* Hubble: Boolean array that is true if system of interest merges within a Hubble time"
   ]
  },
  {
   "cell_type": "code",
   "execution_count": 9,
   "metadata": {},
   "outputs": [],
   "source": [
    "COMPASData.setCOMPASData()"
   ]
  },
  {
   "cell_type": "code",
   "execution_count": 10,
   "metadata": {
    "tags": []
   },
   "outputs": [
    {
     "output_type": "stream",
     "name": "stdout",
     "text": [
      "[0.0001     0.0001     0.0001     ... 0.01059254 0.01059254 0.01059254]\n[10.74323879 28.98567745 32.30563026 ...  4.93805596  5.16415866\n  5.46817157]\n[  76.74304208   94.63040768   93.938463   ...    8.7038262  6428.33321746\n   49.3884491 ]\n[15.47559  33.2958   36.5311   ... 13.44527  12.94106   8.209575]\n"
     ]
    }
   ],
   "source": [
    "# These arrays now contain properties only of the binaries of interest\n",
    "print(COMPASData.metallicitySystems)\n",
    "print(COMPASData.mChirp)\n",
    "print(COMPASData.delayTimes)\n",
    "print(COMPASData.mass1)"
   ]
  },
  {
   "cell_type": "markdown",
   "metadata": {},
   "source": [
    "Note that if you wish to use the COMPASData class without actually having a COMPAS HDF5 output, you can create an instance of ClassCOMPAS by setting path=None, then manually set each array:\n",
    "* MockData.metallicityGrid\n",
    "* MockData.totalMassEvolvedPerZ  \n",
    "* MockData.metallicitySystems\n",
    "* MockData.delayTimes \n",
    "* MockData.mass1       \n",
    "* MockData.mass2  "
   ]
  },
  {
   "cell_type": "code",
   "execution_count": 11,
   "metadata": {},
   "outputs": [
    {
     "output_type": "stream",
     "name": "stdout",
     "text": [
      "path not set in instance of ClassCOMPAS\nClassCOMPAS: Remember to self.setZgridAndCalcMassFormed()\n                   then  self.setCOMPASDCOmask()\n                   then  self.setCOMPASData()\n"
     ]
    }
   ],
   "source": [
    "MockData = ClassCOMPAS.COMPASData(path=None)"
   ]
  },
  {
   "cell_type": "markdown",
   "metadata": {},
   "source": [
    "## Selection effects"
   ]
  },
  {
   "cell_type": "code",
   "execution_count": 17,
   "metadata": {},
   "outputs": [],
   "source": [
    "##################################################################################################################\n",
    "# The selection effects class assigns a probability of detecting a compact binary coalescence by integrating its\n",
    "# SNR for given distance, position, inclination, and binary properties. It does so by Monte Carlo sampling of \n",
    "# uniformly distributed source-detector inclination, and defines the detection probability as the fraction of \n",
    "# Monte Carlo  extrinsic parameter realisations for which the observed SNR passes our threshold (Barrett et al., \n",
    "# 2018).\n",
    "##################################################################################################################\n",
    "import selection_effects\n",
    "\n",
    "# Specify intrinsic parameters:\n",
    "M1 = 40 # In Msol\n",
    "M2 = 40 # In Msol\n",
    "redshift = 0.1\n",
    "distance = 463.4 # In Mpc\n",
    "\n",
    "SNRthreshold = 8\n",
    "\n",
    "##################################################################################################################\n",
    "# There are two options for choosing a sensitivity curve:\n",
    "# (i) 'O1'\n",
    "# (ii) 'Design'\n",
    "##################################################################################################################\n",
    "\n",
    "sensitivity = 'O1' \n",
    "\n",
    "Pdet = selection_effects.detection_probability(M1, M2, redshift, distance, SNRthreshold, sensitivity=sensitivity)"
   ]
  },
  {
   "cell_type": "code",
   "execution_count": 18,
   "metadata": {},
   "outputs": [
    {
     "name": "stdout",
     "output_type": "stream",
     "text": [
      "0.776501\n"
     ]
    }
   ],
   "source": [
    "print(Pdet)"
   ]
  },
  {
   "cell_type": "code",
   "execution_count": 21,
   "metadata": {
    "tags": []
   },
   "outputs": [],
   "source": [
    "import h5py as h5\n",
    "Data = h5.File('../../runs/COMPAS_CHE_30xZ_3000000.h5')\n",
    "ZAMS_m1 = Data[\"SystemParameters\"]['Mass@ZAMS_1'][()]\n",
    "ZAMS_m2 = Data[\"SystemParameters\"]['Mass@ZAMS_2'][()]\n",
    "\n",
    "sortedidx = np.argsort(ZAMS_m1)\n",
    "sortedZAMS_m1 = ZAMS_m1[sortedidx]\n",
    "sortedZAMS_m2 = ZAMS_m2[sortedidx]\n",
    "sorted_diff_ZAMSmass = sortedZAMS_m1-sortedZAMS_m2"
   ]
  }
 ],
 "metadata": {
  "kernelspec": {
   "name": "Python 3.8.5 64-bit",
   "display_name": "Python 3.8.5 64-bit",
   "metadata": {
    "interpreter": {
     "hash": "aee8b7b246df8f9039afb4144a1f6fd8d2ca17a180786b69acc140d282b71a49"
    }
   }
  },
  "language_info": {
   "codemirror_mode": {
    "name": "ipython",
    "version": 3
   },
   "file_extension": ".py",
   "mimetype": "text/x-python",
   "name": "python",
   "nbconvert_exporter": "python",
   "pygments_lexer": "ipython3",
   "version": "3.8.5-final"
  }
 },
 "nbformat": 4,
 "nbformat_minor": 2
}